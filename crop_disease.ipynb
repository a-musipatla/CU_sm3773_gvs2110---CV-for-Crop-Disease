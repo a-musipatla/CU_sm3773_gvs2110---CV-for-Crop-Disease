{
 "cells": [
  {
   "cell_type": "markdown",
   "metadata": {},
   "source": [
    "# ICLR Workshop Challenge #1: CGIAR Computer Vision for Crop Disease\n",
    "\n",
    "Amritha Musipatla and Grisam Shah  \n",
    "CU_sm3773_gvs2110"
   ]
  },
  {
   "cell_type": "markdown",
   "metadata": {},
   "source": [
    "## Imports and packages"
   ]
  },
  {
   "cell_type": "code",
   "execution_count": 5,
   "metadata": {},
   "outputs": [],
   "source": [
    "import os\n",
    "from PIL import Image"
   ]
  },
  {
   "cell_type": "markdown",
   "metadata": {},
   "source": [
    "## Preprocessing\n",
    "\n",
    "In this section we format the given train and test image sets to standard form."
   ]
  },
  {
   "cell_type": "code",
   "execution_count": 22,
   "metadata": {},
   "outputs": [],
   "source": [
    "train_dir = \"data/train/\"\n",
    "test_dir = \"data/test\"\n",
    "\n",
    "# Convert all images to jpg\n",
    "for subdir, dirs, ims in os.walk(train_dir):\n",
    "    for im in ims:\n",
    "        im_path = subdir + os.sep + im\n",
    "        if im.endswith(\".jfif\"): \n",
    "            im_name, ext = os.path.splitext(im_path)\n",
    "            im_convert = im_name + \".jpg\"\n",
    "            print(os.path.join(im_path))\n",
    "            try:\n",
    "                Image.open(im_path).save(im_convert)\n",
    "                os.remove(im_path)\n",
    "            except IOError:\n",
    "                print(\"cannot convert\", im_path)\n",
    "            continue\n",
    "        else:\n",
    "            continue\n",
    "            \n",
    "for subdir, dirs, ims in os.walk(test_dir):\n",
    "    for im in ims:\n",
    "        im_path = subdir + os.sep + im\n",
    "        if im.endswith(\".jfif\"): \n",
    "            im_name, ext = os.path.splitext(im_path)\n",
    "            im_convert = im_name + \".jpg\"\n",
    "            print(os.path.join(im_path))\n",
    "            try:\n",
    "                Image.open(im_path).save(im_convert)\n",
    "                os.remove(im_path)\n",
    "            except IOError:\n",
    "                print(\"cannot convert\", im_path)\n",
    "            continue\n",
    "        else:\n",
    "            continue\n",
    "\n",
    "# Read images into array\n",
    "\n",
    "\n",
    "# Resize to standard shape"
   ]
  },
  {
   "cell_type": "code",
   "execution_count": null,
   "metadata": {},
   "outputs": [],
   "source": []
  }
 ],
 "metadata": {
  "kernelspec": {
   "display_name": "Python 3",
   "language": "python",
   "name": "python3"
  },
  "language_info": {
   "codemirror_mode": {
    "name": "ipython",
    "version": 3
   },
   "file_extension": ".py",
   "mimetype": "text/x-python",
   "name": "python",
   "nbconvert_exporter": "python",
   "pygments_lexer": "ipython3",
   "version": "3.7.4"
  }
 },
 "nbformat": 4,
 "nbformat_minor": 2
}
