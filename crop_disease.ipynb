{
 "cells": [
  {
   "cell_type": "code",
   "execution_count": 1,
   "metadata": {},
   "outputs": [],
   "source": [
    "import os\n",
    "import sys\n",
    "import csv\n",
    "import tensorflow as tf\n",
    "from tensorflow import keras\n",
    "from tensorflow.keras import layers\n",
    "import numpy as np\n",
    "import datetime\n",
    "import matplotlib.pyplot as plt\n",
    "\n",
    "keras.backend.clear_session()\n",
    "from PIL import Image"
   ]
  },
  {
   "cell_type": "code",
   "execution_count": null,
   "metadata": {},
   "outputs": [],
   "source": [
    "#Step 1: crop the images\n",
    "\n",
    "train_dir = \"data/train/\"\n",
    "test_dir = \"data/test/\"\n",
    "\n",
    "for subdir, dirs, ims in os.walk(train_dir):\n",
    "    for im in ims:\n",
    "        im_path = subdir + os.sep + im\n",
    "        if im.endswith(\".jfif\"): \n",
    "            im_name, ext = os.path.splitext(im_path)\n",
    "            im_convert = im_name + \".jpg\"\n",
    "            print(os.path.join(im_path))\n",
    "            try:\n",
    "                Image.open(im_path).save(im_convert)\n",
    "                os.remove(im_path)\n",
    "            except IOError:\n",
    "                print(\"cannot convert\", im_path)\n",
    "            continue\n",
    "        else:\n",
    "            continue\n",
    "            \n",
    "for subdir, dirs, ims in os.walk(test_dir):\n",
    "    for im in ims:\n",
    "        im_path = subdir + os.sep + im\n",
    "        if im.endswith(\".jfif\"): \n",
    "            im_name, ext = os.path.splitext(im_path)\n",
    "            im_convert = im_name + \".jpg\"\n",
    "            print(os.path.join(im_path))\n",
    "            try:\n",
    "                Image.open(im_path).save(im_convert)\n",
    "                os.remove(im_path)\n",
    "            except IOError:\n",
    "                print(\"cannot convert\", im_path)\n",
    "            continue\n",
    "        else:\n",
    "            continue\n",
    "#Step 2: Train the images\n",
    "\n",
    "\n",
    "#Step 3: Test the images"
   ]
  }
 ],
 "metadata": {
  "kernelspec": {
   "display_name": "Python 3",
   "language": "python",
   "name": "python3"
  },
  "language_info": {
   "codemirror_mode": {
    "name": "ipython",
    "version": 3
   },
   "file_extension": ".py",
   "mimetype": "text/x-python",
   "name": "python",
   "nbconvert_exporter": "python",
   "pygments_lexer": "ipython3",
   "version": "3.7.4"
  }
 },
 "nbformat": 4,
 "nbformat_minor": 2
}
